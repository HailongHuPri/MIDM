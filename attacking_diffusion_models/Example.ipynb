{
 "cells": [
  {
   "cell_type": "markdown",
   "id": "49154b18-ff48-49cc-82ea-8b90b40b23ff",
   "metadata": {},
   "source": [
    "## Example "
   ]
  },
  {
   "cell_type": "markdown",
   "id": "70afc336-46ce-4722-9d57-f219bf3680cd",
   "metadata": {},
   "source": [
    "### Dataset Preparation"
   ]
  },
  {
   "cell_type": "raw",
   "id": "b5e0412e-3f88-42d1-9908-53483b6d4a8e",
   "metadata": {},
   "source": [
    "import warnings\n",
    "warnings.filterwarnings('ignore')\n",
    "\n",
    "img_dir='Datasets/ffhq/thumbnails128x128/'\n",
    "base_dir='results/'\n",
    "\n",
    "\n",
    "%run ../data_process.py \\\n",
    "--img_dir $img_dir \\\n",
    "--base_dir $base_dir "
   ]
  },
  {
   "cell_type": "markdown",
   "id": "55ff00a8-e7c2-4028-a07b-f6ba3e7c34f2",
   "metadata": {},
   "source": [
    "### Target Model Preparation"
   ]
  },
  {
   "cell_type": "markdown",
   "id": "50bcdb64-467c-4bec-8a98-a15a264183e9",
   "metadata": {},
   "source": [
    " #### either training from scratch"
   ]
  },
  {
   "cell_type": "raw",
   "id": "69e5abe9-795c-4d3e-bfbd-4af9f114095c",
   "metadata": {},
   "source": [
    "import warnings\n",
    "warnings.filterwarnings('ignore')\n",
    "\n",
    "config_path='../diffusion_models/configs/vp/ddpm/ffhq_ddpm.py'\n",
    "workdir='results/training_results/ddpm_ffhq'\n",
    "eval_folder='results/training_results/ddpm_ffhq'\n",
    "mode='train'\n",
    "\n",
    "\n",
    "# set `tfrecords_path` in the configuration file under the folder `configs\n",
    "# run in the diffusion_models folder\n",
    "\n",
    "%run ../diffusion_models/main.py \\\n",
    "--config $config_path \\\n",
    "--workdir $workdir\\\n",
    "--mode $mode \\\n",
    "--eval_folder $eval_folder"
   ]
  },
  {
   "cell_type": "markdown",
   "id": "0335bf41-6279-4365-a6cc-0f33a875a331",
   "metadata": {
    "jp-MarkdownHeadingCollapsed": true
   },
   "source": [
    "#### or loading pre-trained models\n",
    "Pre-trained DDPM on FFHQ from [here](https://drive.google.com/file/d/1b69vT1dWzseXIFSz--2n8dsd_Zxiipu2/view?usp=drive_link)"
   ]
  },
  {
   "cell_type": "markdown",
   "id": "68a17352-472b-493c-9bef-414c42d73b38",
   "metadata": {},
   "source": [
    "### Membership Inference Attacks"
   ]
  },
  {
   "cell_type": "markdown",
   "id": "a469c214-9a57-4979-9f53-05f453b8e0cd",
   "metadata": {},
   "source": [
    "#### Loss-based attack"
   ]
  },
  {
   "cell_type": "code",
   "execution_count": null,
   "id": "46afda8a-2ca8-4e1a-9582-505b7c2f3226",
   "metadata": {},
   "outputs": [],
   "source": [
    "save_dir='results/ddpm_ffhq'\n",
    "model_path='results/training_results/ddpm_ffhq/ddpm_ffhq.pth'\n",
    "shuffled_idx_file='results/ffhq_1000_idx.npy'\n",
    "data_path='results/ffhq_all.h5py'\n",
    "diff_types='ddpm'\n",
    "\n",
    "%run loss_attack.py \\\n",
    "--save_dir $save_dir \\\n",
    "--model_path $model_path \\\n",
    "--shuffled_idx_file $shuffled_idx_file \\\n",
    "--data_path $data_path \\\n",
    "--diff_types $diff_types"
   ]
  },
  {
   "cell_type": "markdown",
   "id": "9d085b2b-1597-4d6a-a35a-0f40b8716087",
   "metadata": {},
   "source": [
    "#### Likelihood-based attack"
   ]
  },
  {
   "cell_type": "code",
   "execution_count": null,
   "id": "b407166e-ca93-4c79-816c-7bede3d65b97",
   "metadata": {},
   "outputs": [],
   "source": [
    "save_dir='results/ddpm_ffhq'\n",
    "model_path='results/training_results/ddpm_ffhq/ddpm_ffhq.pth'\n",
    "shuffled_idx_file='results/ffhq_1000_idx.npy'\n",
    "data_path='results/ffhq_all.h5py'\n",
    "diff_types='ddpm'\n",
    "\n",
    "%run likelihood_attack.py \\\n",
    "--save_dir $save_dir \\\n",
    "--model_path $model_path \\\n",
    "--shuffled_idx_file $shuffled_idx_file \\\n",
    "--data_path $data_path \\\n",
    "--diff_types $diff_types"
   ]
  },
  {
   "cell_type": "markdown",
   "id": "2cbaf3a5-9625-458e-8f34-58797a11565c",
   "metadata": {},
   "source": [
    "### Show results\n",
    "Take DDPM trained on FFHQ as an example.\n",
    "After running loss_attack.py and likelihood_attack.py, we will get the result files `loss_ffhq_1000_ddpm.h5py` and `likelihood_ffhq_1000_ddpm.h5py`. Then, we summarize attack results as follows."
   ]
  },
  {
   "cell_type": "markdown",
   "id": "2a91ec67-432d-4577-b7cf-1356fd3ad3c7",
   "metadata": {},
   "source": [
    "#### The loss-based attack against DDPM trained on FFHQ"
   ]
  },
  {
   "cell_type": "markdown",
   "id": "168e1496-a5e5-421b-b5a8-98ffb8c7854b",
   "metadata": {},
   "source": [
    "##### TPR@ fixed FPR"
   ]
  },
  {
   "cell_type": "code",
   "execution_count": null,
   "id": "37420a18-db0e-42ff-84c9-6123fa8e3dd1",
   "metadata": {},
   "outputs": [],
   "source": [
    "import h5py\n",
    "import numpy as np\n",
    "\n",
    "\n",
    "data_path='results/ddpm_ffhq/loss_ffhq_1000_ddpm.h5py'\n",
    "\n",
    "\n",
    "with h5py.File(data_path, \"r\") as f:\n",
    "    resluts = f['losses'][:]    # losses, smaller is better\n",
    "print(resluts.shape)\n",
    "\n",
    "\n",
    "# compute FPR@10%TPR, FPR@1%recall, FPR@0.1%recall, FPR@0.01%recall\n",
    "from compute_metrics import get_metrics\n",
    "\n",
    "labels = np.concatenate((np.zeros(1000), np.ones(1000))) \n",
    "\n",
    "all_steps_tpr_at_low_fpr=[]\n",
    "\n",
    "print(resluts.shape[1])\n",
    "for i in range(resluts.shape[1]):\n",
    "    tpr_at_low_fpr_1 =get_metrics(labels, resluts[:,i], fixed_fpr=0.1,)\n",
    "    tpr_at_low_fpr_2 =get_metrics(labels, resluts[:,i], fixed_fpr=0.01)\n",
    "    tpr_at_low_fpr_3 =get_metrics(labels, resluts[:,i], fixed_fpr=0.001)\n",
    "    tpr_at_low_fpr_4 =get_metrics(labels, resluts[:,i], fixed_fpr=0.0001)\n",
    "\n",
    "    \n",
    "    all_steps_tpr_at_low_fpr.append([tpr_at_low_fpr_1,tpr_at_low_fpr_2,tpr_at_low_fpr_3,tpr_at_low_fpr_4])\n",
    "\n",
    "print('finished!')    \n",
    "all_steps_tpr_at_low_fpr_ = np.reshape(all_steps_tpr_at_low_fpr,(-1,4))"
   ]
  },
  {
   "cell_type": "code",
   "execution_count": null,
   "id": "943cfc21-8495-4df7-9d94-c87d4e3661ff",
   "metadata": {},
   "outputs": [],
   "source": [
    "time_step0=0\n",
    "time_step1=200\n",
    "time_step2=500\n",
    "time_step3=600\n",
    "time_step4=800\n",
    "time_step5=999\n",
    "\n",
    "print('TPR@10%FPR,TPR@1%FPR,TPR@0.1%FPR,TPR@0.01%FPR')\n",
    "print(all_steps_tpr_at_low_fpr_[time_step0]*100)\n",
    "print(all_steps_tpr_at_low_fpr_[time_step1]*100)\n",
    "print(all_steps_tpr_at_low_fpr_[time_step2]*100)\n",
    "print(all_steps_tpr_at_low_fpr_[time_step3]*100)\n",
    "print(all_steps_tpr_at_low_fpr_[time_step4]*100)\n",
    "print(all_steps_tpr_at_low_fpr_[time_step5]*100)\n",
    "\n"
   ]
  },
  {
   "cell_type": "markdown",
   "id": "e0a329b5-37e4-476f-b185-a94e77aa8523",
   "metadata": {},
   "source": [
    "##### TPR@ fixed FPR in all diffusion steps"
   ]
  },
  {
   "cell_type": "code",
   "execution_count": null,
   "id": "66ad8bac-186f-4d82-8c91-cdbea8a06bbd",
   "metadata": {},
   "outputs": [],
   "source": [
    "from compute_metrics import  plot_all_steps\n",
    "save_path=None\n",
    "plot_all_steps(all_steps_tpr_at_low_fpr_,save_path=save_path)"
   ]
  },
  {
   "cell_type": "markdown",
   "id": "4c357144-6f98-480f-834f-a212de109e8e",
   "metadata": {},
   "source": [
    "##### Log-scale ROC curve on certain diffusion steps"
   ]
  },
  {
   "cell_type": "code",
   "execution_count": null,
   "id": "032f8453-253d-4f4d-bd06-7eef98b7d85c",
   "metadata": {},
   "outputs": [],
   "source": [
    "from compute_metrics import  plot_one_step\n",
    "\n",
    "time_step0=0\n",
    "time_step1=200\n",
    "time_step2=500\n",
    "time_step3=600\n",
    "time_step4=800\n",
    "time_step5=999\n",
    "\n",
    "labels = np.concatenate((np.zeros(1000), np.ones(1000))) \n",
    "predictions = [resluts[:,time_step0],resluts[:,time_step1],\n",
    "              resluts[:,time_step2],resluts[:,time_step3],\n",
    "              resluts[:,time_step4],resluts[:,time_step5]]\n",
    "\n",
    "save_path=None\n",
    "plot_one_step(labels, predictions,save_path)"
   ]
  },
  {
   "cell_type": "markdown",
   "id": "38993faf-a405-4687-be34-f39c958d68a9",
   "metadata": {},
   "source": [
    "#### The likelihood-based attack against DDPM trained on FFHQ"
   ]
  },
  {
   "cell_type": "markdown",
   "id": "ed11379b-87a8-4f71-a5f4-4788277a667e",
   "metadata": {},
   "source": [
    "##### Log-scale ROC curve"
   ]
  },
  {
   "cell_type": "code",
   "execution_count": null,
   "id": "3bb0e17d-8b20-41a0-a6c9-e70e35672284",
   "metadata": {},
   "outputs": [],
   "source": [
    "import h5py\n",
    "import numpy as np\n",
    "\n",
    "\n",
    "\n",
    "data_path='results/ddpm_ffhq/likelihood_ffhq_1000_ddpm.h5py'\n",
    "\n",
    "\n",
    "with h5py.File(data_path, \"r\") as f:\n",
    "    resluts = f['likelihood'][:]    # losses, smaller is better\n",
    "print(resluts.shape)\n",
    "\n",
    "labels = np.concatenate((np.zeros(1000), np.ones(1000))) \n",
    "\n",
    "all_steps_tpr_at_low_fpr=[]\n",
    "\n",
    "\n",
    "from compute_metrics import get_metrics\n",
    "tpr_at_low_fpr_1 =get_metrics(labels, resluts, fixed_fpr=0.1)\n",
    "tpr_at_low_fpr_2 =get_metrics(labels, resluts, fixed_fpr=0.01)\n",
    "tpr_at_low_fpr_3 =get_metrics(labels, resluts, fixed_fpr=0.001)\n",
    "tpr_at_low_fpr_4 =get_metrics(labels, resluts, fixed_fpr=0.0001)\n",
    "\n",
    "\n",
    "all_steps_tpr_at_low_fpr.append([tpr_at_low_fpr_1,tpr_at_low_fpr_2,tpr_at_low_fpr_3,tpr_at_low_fpr_4])\n",
    "\n",
    "print('finished!')    \n",
    "all_steps_tpr_at_low_fpr_ = np.reshape(all_steps_tpr_at_low_fpr,(-1,4))"
   ]
  },
  {
   "cell_type": "code",
   "execution_count": null,
   "id": "a485ff74-e7d2-4111-8a9b-a1ab3390554a",
   "metadata": {},
   "outputs": [],
   "source": [
    "print('TPR@10%FPR,TPR@1%FPR,TPR@0.1%FPR,TPR@0.01%FPR')\n",
    "print(all_steps_tpr_at_low_fpr_*100)"
   ]
  },
  {
   "cell_type": "code",
   "execution_count": null,
   "id": "0635e1cc-7e41-4701-aa1a-2c0260116959",
   "metadata": {},
   "outputs": [],
   "source": [
    "def plot_TPR_at_low_FPR(labels, predictions,save_path=None):\n",
    "    from sklearn.metrics import roc_curve\n",
    "    import seaborn as sns\n",
    "    sns.set_style(\"darkgrid\")\n",
    "    \n",
    "    fpr_0, tpr_0, _ = roc_curve(labels, predictions)\n",
    "\n",
    "    \n",
    "\n",
    "    # generate a no skill prediction (majority class)\n",
    "    ns_probs = [0 for _ in range(len(labels))]\n",
    "    ns_fpr, ns_tpr, _ = roc_curve(labels, ns_probs)\n",
    "\n",
    "    import matplotlib.pyplot as plt\n",
    "\n",
    "    plt.plot(ns_fpr, ns_tpr, linestyle='--', label='',c = 'grey')\n",
    "\n",
    "    plt.plot(fpr_0, tpr_0, linewidth=2, label='Likelihood based attacks')\n",
    "\n",
    "    \n",
    "    plt.yscale('log')\n",
    "    plt.xscale('log')\n",
    "    plt.xlim([1e-5, 1])\n",
    "    plt.ylim([1e-5, 1])\n",
    "    # axis labels\n",
    "    plt.xlabel('False Positive Rate')\n",
    "    plt.ylabel('True Positive Rate')\n",
    "    # show the legend\n",
    "    plt.legend()\n",
    "    if save_path!=None:\n",
    "        plt.savefig(save_path,bbox_inches = 'tight',pad_inches = 0)       \n",
    "    # show the plot\n",
    "    plt.show()\n"
   ]
  },
  {
   "cell_type": "code",
   "execution_count": null,
   "id": "d755ff67-0c97-4bb6-8cae-6e38dbd27c5b",
   "metadata": {},
   "outputs": [],
   "source": [
    "save_path=None\n",
    "plot_TPR_at_low_FPR(labels, resluts,save_path)"
   ]
  },
  {
   "cell_type": "code",
   "execution_count": null,
   "id": "f7e645c6-ee49-4751-8c4c-2b9a4614f370",
   "metadata": {},
   "outputs": [],
   "source": []
  }
 ],
 "metadata": {
  "kernelspec": {
   "display_name": "midmT",
   "language": "python",
   "name": "midmt"
  },
  "language_info": {
   "codemirror_mode": {
    "name": "ipython",
    "version": 3
   },
   "file_extension": ".py",
   "mimetype": "text/x-python",
   "name": "python",
   "nbconvert_exporter": "python",
   "pygments_lexer": "ipython3",
   "version": "3.8.13"
  }
 },
 "nbformat": 4,
 "nbformat_minor": 5
}
